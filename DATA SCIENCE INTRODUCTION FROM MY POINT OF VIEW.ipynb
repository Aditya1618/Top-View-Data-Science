{
 "cells": [
  {
   "cell_type": "markdown",
   "metadata": {},
   "source": [
    "# Top-View-Data-Science\n",
    "\n",
    "Introduction to Data Science. Why? Tools, Skills, Application In Data Science.\n",
    "The main Goal in Data Science is to find Gold (value) from data.\n",
    "Answering What, Why , How in data science.\n",
    "\n",
    "## Why?\n",
    "       Beacuse it solve three common Problems\n",
    "      -Making Better decisions\n",
    "      -Create Smart products\n",
    "      -Automating manual Processes.\n",
    "    Making Better Decisions ->\n",
    "    Lets say we want to launch a Product or Create a Product. Some people are against the proporsal and some of them supports it.\n",
    "    How to make decision in this kind of situation.The Classic way is not efficient as it should be. But Data Science see this problem\n",
    "    in a different way. By Analysing the Facts from data we can take decisions.\n",
    "    There is a structured way in DS which is more efficient, transparent, can be used again and again.\n",
    "    1> Ask Question.\n",
    "    2> Form a Hypothesis.\n",
    "    3> Design an experiment.\n",
    "    4> Collect the data.\n",
    "    5> Analyze the data.\n",
    "    6> Draw a Conclusion.\n",
    "    7> Take actions.\n",
    "    This above process can be termed as DATA DRIVEN DECISION MAKING.\n",
    "    Application -> Customer Segmentation, Predicting churn, Sentiment Analysis, Portfolio Management.\n",
    "    Create Smart Products.->\n",
    "    User demands intelligent Products that solve/serve user in easy and efficient ways.To build smart sys we use.\n",
    "    1> Machine Learning (machines learn from data)\n",
    "    2> Anticipatory design (Antisipate user needs)\n",
    "    3> Telemetry data (understand user behievour, preferences etc).\n",
    "    Applications -> Voice Command , Face Recognition, Scheduling learning, Content Recommendation, Customer insight.\n",
    "    Automate manual Process.\n",
    "    Doing a job which is not challenging rather then Boaring , Time Consuming etc. is not a efficitive use of Humans.\n",
    "    Therefore, the best solutions would be Automate those Jobs. Now with the help of (AI, ML , DL) it is possiable.\n",
    "    Benefits of automation in terms of cost , better human resource allocations ,less prone to defects.\n",
    "    Application -> Detection of fraud , providing support, Controlling Quality."
   ]
  },
  {
   "cell_type": "code",
   "execution_count": null,
   "metadata": {},
   "outputs": [],
   "source": []
  }
 ],
 "metadata": {
  "kernelspec": {
   "display_name": "Python 3",
   "language": "python",
   "name": "python3"
  },
  "language_info": {
   "codemirror_mode": {
    "name": "ipython",
    "version": 3
   },
   "file_extension": ".py",
   "mimetype": "text/x-python",
   "name": "python",
   "nbconvert_exporter": "python",
   "pygments_lexer": "ipython3",
   "version": "3.6.5"
  }
 },
 "nbformat": 4,
 "nbformat_minor": 2
}
